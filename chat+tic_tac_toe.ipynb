{
  "nbformat": 4,
  "nbformat_minor": 0,
  "metadata": {
    "colab": {
      "provenance": [],
      "authorship_tag": "ABX9TyOWyZQ0PSp4pBbp5Vr+3Y2p",
      "include_colab_link": true
    },
    "kernelspec": {
      "name": "python3",
      "display_name": "Python 3"
    },
    "language_info": {
      "name": "python"
    }
  },
  "cells": [
    {
      "cell_type": "markdown",
      "metadata": {
        "id": "view-in-github",
        "colab_type": "text"
      },
      "source": [
        "<a href=\"https://colab.research.google.com/github/sandeshlavshetty/Complete-Python-3-Bootcamp-udemy-notes/blob/master/chat%2Btic_tac_toe.ipynb\" target=\"_parent\"><img src=\"https://colab.research.google.com/assets/colab-badge.svg\" alt=\"Open In Colab\"/></a>"
      ]
    },
    {
      "cell_type": "code",
      "execution_count": null,
      "metadata": {
        "id": "IRAUbE9OfgNQ"
      },
      "outputs": [],
      "source": [
        "!pip install openai\n"
      ]
    },
    {
      "cell_type": "code",
      "source": [
        "import openai"
      ],
      "metadata": {
        "id": "neDLaB3lgth5"
      },
      "execution_count": null,
      "outputs": []
    },
    {
      "cell_type": "code",
      "source": [
        "openai.api_key='<Your key >'"
      ],
      "metadata": {
        "id": "EPw2tfVeg2Z1"
      },
      "execution_count": null,
      "outputs": []
    },
    {
      "cell_type": "code",
      "source": [
        "messages=[{'role':'system','content':'You are a intelligent assistant.'}]"
      ],
      "metadata": {
        "id": "taC8JCelhJlu"
      },
      "execution_count": null,
      "outputs": []
    },
    {
      "cell_type": "code",
      "source": [
        "while True:\n",
        "  message=input(\"User:\")\n",
        "  if message:\n",
        "    messages.append(\n",
        "        {'role':'user','content':message}\n",
        "    )\n",
        "    chat=openai.ChatCompletion.create(\n",
        "        model='gpt-3.5-turbo',messages=messages,temperature=0.5\n",
        "    )\n",
        "  reply=chat.choices[0].message.content\n",
        "  print(f'ChatGPT:{reply}')\n",
        "  messages.append({'role':'assistant','content':reply})"
      ],
      "metadata": {
        "id": "44u_xyyihmyu"
      },
      "execution_count": null,
      "outputs": []
    }
  ]
}